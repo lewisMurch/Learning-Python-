{
 "cells": [
  {
   "cell_type": "code",
   "execution_count": null,
   "id": "ebefa15f-3374-447d-ac40-0a48a265ec89",
   "metadata": {},
   "outputs": [],
   "source": [
    "import random\n",
    "y = random.randint(1,100)\n",
    "print(y)\n",
    "count = 0\n",
    "won = False\n",
    "\n",
    "while True:\n",
    "    count += 1\n",
    "    x = int(input(\"Guess a number: \"))\n",
    "\n",
    "    if x == y:\n",
    "        break\n",
    "    \n",
    "    if x > 100 or x < 1:\n",
    "        print(\"Out of bounds\")\n",
    "        \n",
    "    if count == 1:\n",
    "        if abs(x-y) < 10:\n",
    "            print(\"Warm\")\n",
    "        \n",
    "        else:\n",
    "            print(\"cold\")\n",
    "            \n",
    "    if count > 1:\n",
    "        if old_input_diff > abs(x-y):\n",
    "            print(\"Warmer!\")\n",
    "        else:\n",
    "            print(\"Colder!\")\n",
    "        \n",
    "    old_input_diff = abs(x-y)\n",
    "\n",
    "        \n",
    "if count == 1:\n",
    "    print(\"It took you 1 attempt to get the correct score, well done!\")\n",
    "    \n",
    "else:\n",
    "    print(\"It took you\", count, \" attempts to get the correct score, well done!\")"
   ]
  },
  {
   "cell_type": "code",
   "execution_count": null,
   "id": "e7e61c50-912e-4d03-9cac-5c68ddf0c627",
   "metadata": {},
   "outputs": [],
   "source": []
  }
 ],
 "metadata": {
  "kernelspec": {
   "display_name": "Python 3 (ipykernel)",
   "language": "python",
   "name": "python3"
  },
  "language_info": {
   "codemirror_mode": {
    "name": "ipython",
    "version": 3
   },
   "file_extension": ".py",
   "mimetype": "text/x-python",
   "name": "python",
   "nbconvert_exporter": "python",
   "pygments_lexer": "ipython3",
   "version": "3.8.0"
  }
 },
 "nbformat": 4,
 "nbformat_minor": 5
}
